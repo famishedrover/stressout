{
 "cells": [
  {
   "cell_type": "code",
   "execution_count": 83,
   "metadata": {
    "collapsed": true
   },
   "outputs": [],
   "source": [
    "import pandas as pd\n",
    "import numpy as np\n",
    "from sklearn.cluster import KMeans"
   ]
  },
  {
   "cell_type": "code",
   "execution_count": 84,
   "metadata": {
    "collapsed": true
   },
   "outputs": [],
   "source": [
    "df = pd.read_csv('./savecsv.csv')"
   ]
  },
  {
   "cell_type": "code",
   "execution_count": 85,
   "metadata": {
    "collapsed": false
   },
   "outputs": [
    {
     "data": {
      "text/html": [
       "<div>\n",
       "<table border=\"1\" class=\"dataframe\">\n",
       "  <thead>\n",
       "    <tr style=\"text-align: right;\">\n",
       "      <th></th>\n",
       "      <th>stress_score</th>\n",
       "      <th>sleep_hours</th>\n",
       "      <th>working_hours</th>\n",
       "      <th>free_time</th>\n",
       "      <th>holidays_per_year</th>\n",
       "      <th>stress</th>\n",
       "    </tr>\n",
       "  </thead>\n",
       "  <tbody>\n",
       "    <tr>\n",
       "      <th>0</th>\n",
       "      <td>12</td>\n",
       "      <td>8</td>\n",
       "      <td>10</td>\n",
       "      <td>4</td>\n",
       "      <td>3</td>\n",
       "      <td>0</td>\n",
       "    </tr>\n",
       "    <tr>\n",
       "      <th>1</th>\n",
       "      <td>15</td>\n",
       "      <td>5</td>\n",
       "      <td>12</td>\n",
       "      <td>5</td>\n",
       "      <td>1</td>\n",
       "      <td>0</td>\n",
       "    </tr>\n",
       "    <tr>\n",
       "      <th>2</th>\n",
       "      <td>18</td>\n",
       "      <td>7</td>\n",
       "      <td>10</td>\n",
       "      <td>2</td>\n",
       "      <td>2</td>\n",
       "      <td>1</td>\n",
       "    </tr>\n",
       "    <tr>\n",
       "      <th>3</th>\n",
       "      <td>21</td>\n",
       "      <td>10</td>\n",
       "      <td>5</td>\n",
       "      <td>5</td>\n",
       "      <td>0</td>\n",
       "      <td>1</td>\n",
       "    </tr>\n",
       "    <tr>\n",
       "      <th>4</th>\n",
       "      <td>27</td>\n",
       "      <td>1</td>\n",
       "      <td>10</td>\n",
       "      <td>1</td>\n",
       "      <td>0</td>\n",
       "      <td>1</td>\n",
       "    </tr>\n",
       "  </tbody>\n",
       "</table>\n",
       "</div>"
      ],
      "text/plain": [
       "   stress_score  sleep_hours  working_hours  free_time  holidays_per_year  \\\n",
       "0            12            8             10          4                  3   \n",
       "1            15            5             12          5                  1   \n",
       "2            18            7             10          2                  2   \n",
       "3            21           10              5          5                  0   \n",
       "4            27            1             10          1                  0   \n",
       "\n",
       "   stress  \n",
       "0       0  \n",
       "1       0  \n",
       "2       1  \n",
       "3       1  \n",
       "4       1  "
      ]
     },
     "execution_count": 85,
     "metadata": {},
     "output_type": "execute_result"
    }
   ],
   "source": [
    "df.head()"
   ]
  },
  {
   "cell_type": "code",
   "execution_count": 86,
   "metadata": {
    "collapsed": true
   },
   "outputs": [],
   "source": [
    "# total\n",
    "x_train = df.drop(['stress'],axis = 1)\n",
    "y_train = df['stress']"
   ]
  },
  {
   "cell_type": "code",
   "execution_count": 110,
   "metadata": {
    "collapsed": false
   },
   "outputs": [],
   "source": [
    "from sklearn.tree import DecisionTreeClassifier\n",
    "from sklearn.svm import SVC \n",
    "from sklearn.neighbors import KNeighborsClassifier\n"
   ]
  },
  {
   "cell_type": "code",
   "execution_count": 116,
   "metadata": {
    "collapsed": true
   },
   "outputs": [],
   "source": [
    "def dist(x1, x2):\n",
    "    return np.sqrt(((x1 - x2)**2).sum())\n",
    "    # return abs(x1-x2).sum()\n",
    "    # return np.sqrt(0.5*((np.sqrt(x1) - np.sqrt(x2))**2).sum())"
   ]
  },
  {
   "cell_type": "code",
   "execution_count": 130,
   "metadata": {
    "collapsed": true
   },
   "outputs": [],
   "source": [
    "def knn(X_train, x, y_train, k=5):\n",
    "    vals = [] \n",
    "    for ix in range(X_train.shape[0]):\n",
    "        v = [dist(x, X_train[ix, :]), y_train[ix]]\n",
    "        vals.append(v)\n",
    "    \n",
    "    updated_vals = sorted(vals, key=lambda x: x[0])\n",
    "    pred_arr = np.asarray(updated_vals[:k])\n",
    "    pred_arr = np.unique(pred_arr[:, 1], return_counts=True)\n",
    "    pred = pred_arr[1].argmax()\n",
    "    return int(pred_arr[0][pred])"
   ]
  },
  {
   "cell_type": "code",
   "execution_count": null,
   "metadata": {
    "collapsed": true
   },
   "outputs": [],
   "source": []
  },
  {
   "cell_type": "code",
   "execution_count": 111,
   "metadata": {
    "collapsed": false
   },
   "outputs": [
    {
     "data": {
      "text/plain": [
       "KNeighborsClassifier(algorithm='auto', leaf_size=30, metric='minkowski',\n",
       "           metric_params=None, n_jobs=1, n_neighbors=5, p=2,\n",
       "           weights='uniform')"
      ]
     },
     "execution_count": 111,
     "metadata": {},
     "output_type": "execute_result"
    }
   ],
   "source": [
    "# clf = DecisionTreeClassifier()\n",
    "# clf = SVC()\n",
    "clf = KNeighborsClassifier()\n",
    "clf.fit(x_train,y_train)"
   ]
  },
  {
   "cell_type": "code",
   "execution_count": 114,
   "metadata": {
    "collapsed": false
   },
   "outputs": [],
   "source": [
    "sscore = 21\n",
    "sleep_hours = 5\n",
    "work_hours = 10\n",
    "freetime = 5\n",
    "holperyear = 0\n",
    "x = [sscore,sleep_hours,work_hours,freetime,holperyear]"
   ]
  },
  {
   "cell_type": "code",
   "execution_count": 115,
   "metadata": {
    "collapsed": false
   },
   "outputs": [
    {
     "name": "stdout",
     "output_type": "stream",
     "text": [
      "[1]\n"
     ]
    },
    {
     "name": "stderr",
     "output_type": "stream",
     "text": [
      "/usr/local/lib/python2.7/site-packages/sklearn/utils/validation.py:395: DeprecationWarning: Passing 1d arrays as data is deprecated in 0.17 and will raise ValueError in 0.19. Reshape your data either using X.reshape(-1, 1) if your data has a single feature or X.reshape(1, -1) if it contains a single sample.\n",
      "  DeprecationWarning)\n"
     ]
    }
   ],
   "source": [
    "pred = clf.predict(x)\n",
    "print pred"
   ]
  },
  {
   "cell_type": "code",
   "execution_count": 149,
   "metadata": {
    "collapsed": false
   },
   "outputs": [],
   "source": [
    "xnp_train = np.asarray(x_train)\n",
    "ynp_train = np.asarray(y_train)\n",
    "total = np.asarray(df)"
   ]
  },
  {
   "cell_type": "code",
   "execution_count": 132,
   "metadata": {
    "collapsed": false
   },
   "outputs": [
    {
     "name": "stdout",
     "output_type": "stream",
     "text": [
      "1\n"
     ]
    }
   ],
   "source": [
    "pred_self = knn(xnp_train,x,ynp_train)\n",
    "print pred_self"
   ]
  },
  {
   "cell_type": "code",
   "execution_count": 150,
   "metadata": {
    "collapsed": false
   },
   "outputs": [
    {
     "data": {
      "text/plain": [
       "(99, 5)"
      ]
     },
     "execution_count": 150,
     "metadata": {},
     "output_type": "execute_result"
    }
   ],
   "source": [
    "xnp_train.shape"
   ]
  },
  {
   "cell_type": "code",
   "execution_count": 133,
   "metadata": {
    "collapsed": false
   },
   "outputs": [
    {
     "name": "stdout",
     "output_type": "stream",
     "text": [
      "[12  8 10  4  3]\n"
     ]
    }
   ],
   "source": [
    "print xnp_train[0]"
   ]
  },
  {
   "cell_type": "code",
   "execution_count": 289,
   "metadata": {
    "collapsed": true
   },
   "outputs": [],
   "source": [
    "def findNearest (X_train, x, y_train) :\n",
    "    minval = 9999999999\n",
    "    minval2 = 9999999999\n",
    "    z = X_train[0]\n",
    "    z2 = X_train[0]\n",
    "    for ix in range(X_train.shape[0]):\n",
    "        f = dist(x, X_train[ix, :])\n",
    "        if (minval > f) and (y_train[ix] == 0) :\n",
    "            if (minval2>f) :\n",
    "                minval = minval2\n",
    "                z = z2\n",
    "                minval2 = f\n",
    "                z2 = X_train[ix, :]\n",
    "            else :\n",
    "                minval = f\n",
    "                z = X_train[ix, :]\n",
    "    mean = z2\n",
    "    \n",
    "    for k in range(len(z)) :\n",
    "        mean[k] =float(z[k]+z2[k])/2.0\n",
    "        \n",
    "    return mean"
   ]
  },
  {
   "cell_type": "code",
   "execution_count": 290,
   "metadata": {
    "collapsed": true
   },
   "outputs": [],
   "source": [
    "# def findNearest (X_train ,x, Y_train ) :\n",
    "#     val = []\n",
    "#     for ix in range(X_train.shape[0]) :\n",
    "#         val.append(dist(x, X_train[ix, :]))\n",
    "#     val = [val]\n",
    "#     Y_train = [Y_train]\n",
    "#     val = np.asarray(val)\n",
    "#     print val.shape\n",
    "#     print X_train.shape\n",
    "#     xtrain = X_train\n",
    "#     xtrain = np.concatenate((xtrain, val), axis=1)\n",
    "#     final = np.concatenate((xtrain , Y_train) , axis = 1)\n",
    "#     updated = sorted(xtrain , key = lambda x : x[:,-2])\n",
    "    \n",
    "#     a = ''\n",
    "#     b = ''\n",
    "#     c = ''\n",
    "    \n",
    "#     for i in range(len(updated)) :\n",
    "#         if updated[i,-1] == '0' :\n",
    "#             a = updated[i,:]\n",
    "#             break\n",
    "#     for i in range(i,len(updated)) :\n",
    "#         if updated[i,-1] == '0' :\n",
    "#             b = updated[i,:]\n",
    "#             break\n",
    "#     for i in range(i,len(updated)) :\n",
    "#         if updated[i,-1] == '0' :\n",
    "#             b = updated[i,:]\n",
    "#             break\n",
    "            \n",
    "#     print a,b,c\n",
    "#     z = updated.shape[1]\n",
    "#     for i in range(len(a)) :\n",
    "#         z[i] = (a[i] + b[i] + c[i])/3\n",
    "        \n",
    "#     return z"
   ]
  },
  {
   "cell_type": "code",
   "execution_count": 291,
   "metadata": {
    "collapsed": true
   },
   "outputs": [],
   "source": [
    "# p = findNearest(xnp_train,x,ynp_train)"
   ]
  },
  {
   "cell_type": "code",
   "execution_count": 292,
   "metadata": {
    "collapsed": false
   },
   "outputs": [],
   "source": [
    "# pr int p\n"
   ]
  },
  {
   "cell_type": "code",
   "execution_count": 293,
   "metadata": {
    "collapsed": false
   },
   "outputs": [],
   "source": [
    "p = findNearest(xnp_train,x,ynp_train)"
   ]
  },
  {
   "cell_type": "code",
   "execution_count": 295,
   "metadata": {
    "collapsed": false
   },
   "outputs": [
    {
     "name": "stdout",
     "output_type": "stream",
     "text": [
      "[21  6 10  4  0] [21, 5, 10, 5, 0]\n"
     ]
    }
   ],
   "source": [
    "print p,x"
   ]
  },
  {
   "cell_type": "code",
   "execution_count": 214,
   "metadata": {
    "collapsed": true
   },
   "outputs": [],
   "source": [
    "# # a = [[1,2,3,4,5],[0,9,8,7,6]]\n",
    "# # b = [[2,3]]\n",
    "# # a = np.asarray(a)\n",
    "# # b = np.asarray(b)\n",
    "# a = np.array([[1, 2 , 4], [3, 4 ,8]])\n",
    "# b = np.array([[5, 6]])"
   ]
  },
  {
   "cell_type": "code",
   "execution_count": 215,
   "metadata": {
    "collapsed": false
   },
   "outputs": [
    {
     "name": "stdout",
     "output_type": "stream",
     "text": [
      "(2, 3)\n",
      "(1, 2)\n"
     ]
    }
   ],
   "source": [
    "# print a.shape\n",
    "# print b.shape"
   ]
  },
  {
   "cell_type": "code",
   "execution_count": 216,
   "metadata": {
    "collapsed": false
   },
   "outputs": [
    {
     "data": {
      "text/plain": [
       "array([[1, 2, 4, 5],\n",
       "       [3, 4, 8, 6]])"
      ]
     },
     "execution_count": 216,
     "metadata": {},
     "output_type": "execute_result"
    }
   ],
   "source": [
    "# np.concatenate((a, b.T), axis=1)"
   ]
  },
  {
   "cell_type": "code",
   "execution_count": null,
   "metadata": {
    "collapsed": true
   },
   "outputs": [],
   "source": []
  }
 ],
 "metadata": {
  "kernelspec": {
   "display_name": "Python 2",
   "language": "python",
   "name": "python2"
  },
  "language_info": {
   "codemirror_mode": {
    "name": "ipython",
    "version": 2
   },
   "file_extension": ".py",
   "mimetype": "text/x-python",
   "name": "python",
   "nbconvert_exporter": "python",
   "pygments_lexer": "ipython2",
   "version": "2.7.13"
  }
 },
 "nbformat": 4,
 "nbformat_minor": 2
}
